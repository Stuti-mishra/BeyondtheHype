{
 "cells": [
  {
   "cell_type": "markdown",
   "metadata": {},
   "source": [
    "# Patient Health and Lifestyle Dataset Guide\n",
    "\n",
    "## Overview\n",
    "This dataset contains comprehensive patient health information including demographics, lifestyle choices, and medical history. The dataset is valuable for analyzing health outcomes and predicting heart disease risk based on various patient characteristics.\n",
    "\n",
    "### Key Details:\n",
    "- **Number of Entries**: 237,630 patient records\n",
    "- **Number of Features**: 36\n",
    "- **Target Variable**: Heart Disease status\n",
    "\n",
    "### Dataset Features:\n",
    "| Category | Features | Description |\n",
    "|----------|-----------|-------------|\n",
    "| **Patient Information** | PatientID, State, Sex, AgeCategory | Basic demographic information |\n",
    "| **Health Metrics** | HeightInMeters, WeightInKilograms, BMI | Physical measurements |\n",
    "| **Medical History** | HadHeartAttack, HadStroke, HadDiabetes | Previous medical conditions |\n",
    "| **Lifestyle** | SmokerStatus, ECigaretteUsage, AlcoholDrinkers | Behavioral factors |\n",
    "| **Healthcare** | FluVaxLast12, PneumoVaxEver, HIVTesting | Preventive care measures |\n",
    "| **COVID-19** | CovidPos | COVID-19 test status |"
   ]
  },
  {
   "cell_type": "markdown",
   "metadata": {},
   "source": [
    "## Objective\n",
    "The **target variable** is the presence of heart disease. Your goal is to build a model that predicts whether a patient has heart disease based on their health metrics, lifestyle factors, and medical history.\n",
    "\n",
    "The evaluation metric is **Area Under the ROC Curve (AUC-ROC)**, which is appropriate for binary classification problems."
   ]
  },
  {
   "cell_type": "markdown",
   "metadata": {},
   "source": [
    "## Loading the Data\n",
    "\n",
    "The dataset is available in CSV format. Let's go through the process of loading and exploring it.\n",
    "\n",
    "### Step 1: Import Libraries\n",
    "We'll need several libraries for data analysis and modeling."
   ]
  },
  {
   "cell_type": "code",
   "execution_count": null,
   "metadata": {},
   "outputs": [],
   "source": [
    "# Import necessary libraries\n",
    "import pandas as pd\n",
    "import numpy as np\n"
   ]
  },
  {
   "cell_type": "markdown",
   "metadata": {},
   "source": [
    "### Step 2: Load the Dataset\n",
    "Load the patient health data into a Pandas DataFrame."
   ]
  },
  {
   "cell_type": "code",
   "execution_count": null,
   "metadata": {},
   "outputs": [],
   "source": [
    "# Path to the dataset\n",
    "data_path = \"inputs.csv\"  # Update path as needed\n",
    "\n",
    "# Load the dataset\n",
    "df = pd.read_csv(data_path)\n",
    "\n",
    "# Display the first few rows\n",
    "print(\"Dataset Preview:\")\n",
    "df.head()"
   ]
  },
  {
   "cell_type": "markdown",
   "metadata": {},
   "source": [
    "### Step 3: Data Exploration\n",
    "Let's examine the dataset's structure and characteristics."
   ]
  },
  {
   "cell_type": "code",
   "execution_count": null,
   "metadata": {},
   "outputs": [],
   "source": [
    "# Basic dataset information\n",
    "print(\"Dataset Dimensions:\")\n",
    "print(f\"Number of patients: {df.shape[0]}\")\n",
    "print(f\"Number of features: {df.shape[1]}\")\n",
    "\n",
    "# Check data types and missing values\n",
    "print(\"\\nDataset Info:\")\n",
    "df.info()\n",
    "\n",
    "# Summary statistics for numerical columns\n",
    "print(\"\\nNumerical Features Summary:\")\n",
    "df.describe()"
   ]
  }
 ],
 "metadata": {
  "kernelspec": {
   "display_name": "Python 3",
   "language": "python",
   "name": "python3"
  }
 },
 "nbformat": 4,
 "nbformat_minor": 2
}
